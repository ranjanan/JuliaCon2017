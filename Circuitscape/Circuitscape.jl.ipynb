{
 "cells": [
  {
   "cell_type": "markdown",
   "metadata": {
    "slideshow": {
     "slide_type": "slide"
    }
   },
   "source": [
    "\n",
    "\n",
    "# Circuitscape: A Tool for Modelling Landscape Connectivity\n",
    "\n",
    "### Ranjan Anantharaman\n",
    "\n",
    "\n",
    "<img src=\"julia-computing.svg\" alt=\"Drawing\" style=\"width: 100px; height: 100px\"/>\n",
    "\n",
    "\n"
   ]
  },
  {
   "cell_type": "markdown",
   "metadata": {
    "slideshow": {
     "slide_type": "slide"
    }
   },
   "source": [
    "## Landscape Connectivity\n",
    "\n",
    "- Connectivity among populations and habitats is important for a wide range of ecological processes. \n",
    "\n",
    "- Understanding, preserving, and restoring connectivity in complex\n",
    "landscapes requires connectivity models and metrics that are reliable, \n",
    "efficient, and process based."
   ]
  },
  {
   "cell_type": "markdown",
   "metadata": {
    "slideshow": {
     "slide_type": "subslide"
    }
   },
   "source": [
    "1. Models landscapes as resistances [MCRAE 2008]:\n",
    " - Probability of movement across a patch is proportional to its conductance\n",
    " - This relates to random walk theory in terms of probabilities of hopping between different nodes in a habitat network \n",
    "\n",
    "2. The idea is to find the path of least resistance\n",
    "\n",
    "3. Predict migration patterns of animals based on connectivity \n",
    "\n"
   ]
  },
  {
   "cell_type": "markdown",
   "metadata": {
    "slideshow": {
     "slide_type": "subslide"
    }
   },
   "source": [
    "![](america.gif)"
   ]
  },
  {
   "cell_type": "markdown",
   "metadata": {
    "slideshow": {
     "slide_type": "slide"
    }
   },
   "source": [
    "## Circuitscape\n",
    "\n",
    "Circuitscape takes an input habitiat file and a point file\n",
    "- Supports two types of inputs\n",
    "    - Network (takes a pair edge list as input)\n",
    "    - Raster (takes a resistance grid as input)\n",
    "- Operation modes:\n",
    "    - Pairwise (calculate resistances between points of interest)\n",
    "    - Advanced (specify arbitrary sources and sinks) "
   ]
  },
  {
   "cell_type": "markdown",
   "metadata": {
    "slideshow": {
     "slide_type": "slide"
    }
   },
   "source": [
    "### Porting from Python to Julia\n",
    "\n",
    "- Most of the current Python code using scipy, numpy and pyamg\n",
    "- As we port to Julia, we should get substantial improvements in speed and scalability "
   ]
  },
  {
   "cell_type": "code",
   "execution_count": 2,
   "metadata": {
    "collapsed": false,
    "slideshow": {
     "slide_type": "slide"
    }
   },
   "outputs": [
    {
     "name": "stderr",
     "output_type": "stream",
     "text": [
      "WARNING: Method definition info(Any...) in module Base at util.jl:324 overwritten in module Logging at /Users/ranjan/.julia/v0.5/Logging/src/Logging.jl:115.\n",
      "WARNING: Method definition warn(Any...) in module Base at util.jl:354 overwritten in module Logging at /Users/ranjan/.julia/v0.5/Logging/src/Logging.jl:115.\n"
     ]
    }
   ],
   "source": [
    "using CircuitScape"
   ]
  },
  {
   "cell_type": "code",
   "execution_count": 15,
   "metadata": {
    "collapsed": false,
    "slideshow": {
     "slide_type": "subslide"
    }
   },
   "outputs": [
    {
     "name": "stderr",
     "output_type": "stream",
     "text": [
      "14-May 20:25:15:INFO:root:Reading Maps\n",
      "14-May 20:25:15:INFO:root:Resistance/Conductance map has 59 nodes\n",
      "14-May 20:25:15:DEBUG:root:Graph has 54 nodes, 10 focal points and 7 connected components\n",
      "14-May 20:25:15:DEBUG:root:pt1 = 1, pt2 = 43\n",
      "14-May 20:25:15:DEBUG:root:pt1 = 1, pt2 = 45\n",
      "14-May 20:25:15:DEBUG:root:pt1 = 1, pt2 = 45\n",
      "14-May 20:25:15:DEBUG:root:pt1 = 1, pt2 = 28\n",
      "14-May 20:25:15:DEBUG:root:pt1 = 1, pt2 = 40\n",
      "14-May 20:25:15:DEBUG:root:pt1 = 43, pt2 = 45\n",
      "14-May 20:25:15:DEBUG:root:pt1 = 43, pt2 = 45\n",
      "14-May 20:25:15:DEBUG:root:pt1 = 43, pt2 = 28\n",
      "14-May 20:25:15:DEBUG:root:pt1 = 43, pt2 = 40\n",
      "14-May 20:25:15:DEBUG:root:pt1 = 45, pt2 = 45\n",
      "14-May 20:25:15:DEBUG:root:pt1 = 45, pt2 = 28\n",
      "14-May 20:25:15:DEBUG:root:pt1 = 45, pt2 = 40\n",
      "14-May 20:25:15:DEBUG:root:pt1 = 45, pt2 = 28\n",
      "14-May 20:25:15:DEBUG:root:pt1 = 45, pt2 = 40\n",
      "14-May 20:25:15:DEBUG:root:pt1 = 28, pt2 = 40\n",
      "14-May 20:25:15:DEBUG:root:solved 15 equations\n"
     ]
    },
    {
     "data": {
      "text/plain": [
       "10×10 Array{Float64,2}:\n",
       "  0.0      10.0688   -1.0   6.5679   …   6.51307   7.05605  -1.0  -1.0\n",
       " 10.0688    0.0      -1.0   4.44105      9.17022   5.02608  -1.0  -1.0\n",
       " -1.0      -1.0       0.0  -1.0         -1.0      -1.0      -1.0  -1.0\n",
       "  6.5679    4.44105  -1.0   0.0          5.64906   0.71645  -1.0  -1.0\n",
       "  6.5679    4.44105  -1.0   0.0          5.64906   0.71645  -1.0  -1.0\n",
       " -1.0      -1.0      -1.0  -1.0      …  -1.0      -1.0      -1.0  -1.0\n",
       "  6.51307   9.17022  -1.0   5.64906      0.0       6.13617  -1.0  -1.0\n",
       "  7.05605   5.02608  -1.0   0.71645      6.13617   0.0      -1.0  -1.0\n",
       " -1.0      -1.0      -1.0  -1.0         -1.0      -1.0       0.0  -1.0\n",
       " -1.0      -1.0      -1.0  -1.0         -1.0      -1.0      -1.0   0.0"
      ]
     },
     "execution_count": 15,
     "metadata": {},
     "output_type": "execute_result"
    }
   ],
   "source": [
    "r = compute(\"circuitscape/verify/config_files/sgVerify1.ini\")"
   ]
  },
  {
   "cell_type": "markdown",
   "metadata": {
    "slideshow": {
     "slide_type": "subslide"
    }
   },
   "source": [
    "## Current Maps"
   ]
  },
  {
   "cell_type": "code",
   "execution_count": 5,
   "metadata": {
    "collapsed": true,
    "slideshow": {
     "slide_type": "skip"
    }
   },
   "outputs": [],
   "source": [
    "using Plots"
   ]
  },
  {
   "cell_type": "markdown",
   "metadata": {
    "slideshow": {
     "slide_type": "skip"
    }
   },
   "source": [
    "Load the GR backend."
   ]
  },
  {
   "cell_type": "code",
   "execution_count": 6,
   "metadata": {
    "collapsed": false,
    "slideshow": {
     "slide_type": "skip"
    }
   },
   "outputs": [
    {
     "data": {
      "text/plain": [
       "Plots.GRBackend()"
      ]
     },
     "execution_count": 6,
     "metadata": {},
     "output_type": "execute_result"
    }
   ],
   "source": [
    "gr()"
   ]
  },
  {
   "cell_type": "code",
   "execution_count": 7,
   "metadata": {
    "collapsed": false,
    "slideshow": {
     "slide_type": "skip"
    }
   },
   "outputs": [],
   "source": [
    "# Warmup\n",
    "# heatmap(rand(10,10))"
   ]
  },
  {
   "cell_type": "code",
   "execution_count": 19,
   "metadata": {
    "collapsed": false,
    "slideshow": {
     "slide_type": "fragment"
    }
   },
   "outputs": [
    {
     "data": {
      "text/plain": [
       "994×1000 Array{Float64,2}:\n",
       " -5.04846  -4.99021  -4.93917  -4.89381  …  -5.97141  -6.02797  -6.09543\n",
       " -4.9896   -4.93808  -4.89235  -4.85129     -5.92634  -5.97522  -6.03393\n",
       " -4.93746  -4.89123  -4.84977  -4.81225     -5.88623  -5.92951  -5.98088\n",
       " -4.89061  -4.84863  -4.81068  -4.77611     -5.85415  -5.89249  -5.93468\n",
       " -4.848    -4.80952  -4.7745   -4.74242     -5.82391  -5.86062  -5.89594\n",
       " -4.80888  -4.77332  -4.74077  -4.71083  …  -5.79328  -5.82746  -5.86155\n",
       " -4.77267  -4.73958  -4.70915  -4.68105     -5.7631   -5.79469  -5.82804\n",
       " -4.73893  -4.70794  -4.67935  -4.65286     -5.73082  -5.76362  -5.79467\n",
       " -4.70729  -4.67813  -4.65113  -4.62606     -5.69815  -5.73174  -5.76245\n",
       " -4.67747  -4.6499   -4.62431  -4.60047     -5.66968  -5.70065  -5.73118\n",
       " -4.64923  -4.62306  -4.5987   -4.57598  …  -5.6447   -5.67328  -5.70204\n",
       " -4.62239  -4.59744  -4.57419  -4.55246     -5.6227   -5.64911  -5.67555\n",
       " -4.59677  -4.57292  -4.55065  -4.52981     -5.60424  -5.62828  -5.65207\n",
       "  ⋮                                      ⋱                              \n",
       " -4.32767  -4.29291  -4.26074  -4.23078     -3.95774  -3.98949  -4.0231 \n",
       " -4.36546  -4.32767  -4.29292  -4.26074     -3.98756  -4.02206  -4.05889\n",
       " -4.40685  -4.36546  -4.32767  -4.29292     -4.02024  -4.0579   -4.09853\n",
       " -4.4526   -4.40685  -4.36546  -4.32767  …  -4.05619  -4.09759  -4.14275\n",
       " -4.50375  -4.4526   -4.40684  -4.36545     -4.096    -4.14186  -4.19257\n",
       " -4.56173  -4.50374  -4.45259  -4.40683     -4.14039  -4.19174  -4.24943\n",
       " -4.62867  -4.56173  -4.50374  -4.45258     -4.19038  -4.24865  -4.31543\n",
       " -4.70785  -4.62867  -4.56172  -4.50372     -4.24741  -4.31469  -4.39382\n",
       " -4.80475  -4.70784  -4.62866  -4.56171  …  -4.31358  -4.39314  -4.49011\n",
       " -4.92969  -4.80475  -4.70783  -4.62865     -4.39217  -4.48949  -4.61457\n",
       " -5.10578  -4.92968  -4.80474  -4.70782     -4.48869  -4.61403  -4.79032\n",
       " -5.4068   -5.10577  -4.92968  -4.80473     -4.6135   -4.78992  -5.09115"
      ]
     },
     "execution_count": 19,
     "metadata": {},
     "output_type": "execute_result"
    }
   ],
   "source": [
    "x = readdlm(\"/Users/ranjan/Repos/BigTests/1m/_curmap_1_2.asc\"; skipstart = 6)"
   ]
  },
  {
   "cell_type": "code",
   "execution_count": 23,
   "metadata": {
    "collapsed": false,
    "slideshow": {
     "slide_type": "subslide"
    }
   },
   "outputs": [
    {
     "data": {
      "text/html": [
       "<?xml version=\"1.0\" encoding=\"utf-8\"?>\n",
       "<svg xmlns=\"http://www.w3.org/2000/svg\" xmlns:xlink=\"http://www.w3.org/1999/xlink\" width=\"600\" height=\"400\" viewBox=\"0 0 600 400\">\n",
       "<defs>\n",
       "  <clipPath id=\"clip00\">\n",
       "    <rect x=\"0\" y=\"0\" width=\"600\" height=\"400\"/>\n",
       "  </clipPath>\n",
       "</defs>\n",
       "<polygon clip-path=\"url(#clip00)\" points=\"\n",
       "0,400 600,400 600,0 0,0 \n",
       "  \" fill=\"#ffffff\" fill-opacity=\"1\"/>\n",
       "<defs>\n",
       "  <clipPath id=\"clip01\">\n",
       "    <rect x=\"120\" y=\"0\" width=\"421\" height=\"400\"/>\n",
       "  </clipPath>\n",
       "</defs>\n",
       "<polygon clip-path=\"url(#clip00)\" points=\"\n",
       "30.6037,384.952 596.063,384.952 596.063,3.93701 30.6037,3.93701 \n",
       "  \" fill=\"#ffffff\" fill-opacity=\"1\"/>\n",
       "<defs>\n",
       "  <clipPath id=\"clip02\">\n",
       "    <rect x=\"30\" y=\"3\" width=\"506\" height=\"382\"/>\n",
       "  </clipPath>\n",
       "</defs>\n",
       "<polyline clip-path=\"url(#clip02)\" style=\"stroke:#00002d; stroke-width:0.8; stroke-opacity:0.5; fill:none\" stroke-dasharray=\"1, 2\" points=\"\n",
       "  156.589,379.237 156.589,9.65223 \n",
       "  \"/>\n",
       "<polyline clip-path=\"url(#clip02)\" style=\"stroke:#00002d; stroke-width:0.8; stroke-opacity:0.5; fill:none\" stroke-dasharray=\"1, 2\" points=\"\n",
       "  283.08,379.237 283.08,9.65223 \n",
       "  \"/>\n",
       "<polyline clip-path=\"url(#clip02)\" style=\"stroke:#00002d; stroke-width:0.8; stroke-opacity:0.5; fill:none\" stroke-dasharray=\"1, 2\" points=\"\n",
       "  409.572,379.237 409.572,9.65223 \n",
       "  \"/>\n",
       "<polyline clip-path=\"url(#clip02)\" style=\"stroke:#00002d; stroke-width:0.8; stroke-opacity:0.5; fill:none\" stroke-dasharray=\"1, 2\" points=\"\n",
       "  536.063,379.237 536.063,9.65223 \n",
       "  \"/>\n",
       "<polyline clip-path=\"url(#clip02)\" style=\"stroke:#00002d; stroke-width:0.8; stroke-opacity:0.5; fill:none\" stroke-dasharray=\"1, 2\" points=\"\n",
       "  38.1856,289.41 528.481,289.41 \n",
       "  \"/>\n",
       "<polyline clip-path=\"url(#clip02)\" style=\"stroke:#00002d; stroke-width:0.8; stroke-opacity:0.5; fill:none\" stroke-dasharray=\"1, 2\" points=\"\n",
       "  38.1856,193.485 528.481,193.485 \n",
       "  \"/>\n",
       "<polyline clip-path=\"url(#clip02)\" style=\"stroke:#00002d; stroke-width:0.8; stroke-opacity:0.5; fill:none\" stroke-dasharray=\"1, 2\" points=\"\n",
       "  38.1856,97.56 528.481,97.56 \n",
       "  \"/>\n",
       "<polyline clip-path=\"url(#clip02)\" style=\"stroke:#00002d; stroke-width:0.8; stroke-opacity:1; fill:none\" points=\"\n",
       "  30.6037,384.952 536.063,384.952 \n",
       "  \"/>\n",
       "<polyline clip-path=\"url(#clip02)\" style=\"stroke:#00002d; stroke-width:0.8; stroke-opacity:1; fill:none\" points=\"\n",
       "  156.589,384.952 156.589,379.237 \n",
       "  \"/>\n",
       "<polyline clip-path=\"url(#clip02)\" style=\"stroke:#00002d; stroke-width:0.8; stroke-opacity:1; fill:none\" points=\"\n",
       "  283.08,384.952 283.08,379.237 \n",
       "  \"/>\n",
       "<polyline clip-path=\"url(#clip02)\" style=\"stroke:#00002d; stroke-width:0.8; stroke-opacity:1; fill:none\" points=\"\n",
       "  409.572,384.952 409.572,379.237 \n",
       "  \"/>\n",
       "<polyline clip-path=\"url(#clip02)\" style=\"stroke:#00002d; stroke-width:0.8; stroke-opacity:1; fill:none\" points=\"\n",
       "  536.063,384.952 536.063,379.237 \n",
       "  \"/>\n",
       "<polyline clip-path=\"url(#clip02)\" style=\"stroke:#00002d; stroke-width:0.8; stroke-opacity:1; fill:none\" points=\"\n",
       "  30.6037,384.952 30.6037,3.93701 \n",
       "  \"/>\n",
       "<polyline clip-path=\"url(#clip02)\" style=\"stroke:#00002d; stroke-width:0.8; stroke-opacity:1; fill:none\" points=\"\n",
       "  30.6037,289.41 38.1856,289.41 \n",
       "  \"/>\n",
       "<polyline clip-path=\"url(#clip02)\" style=\"stroke:#00002d; stroke-width:0.8; stroke-opacity:1; fill:none\" points=\"\n",
       "  30.6037,193.485 38.1856,193.485 \n",
       "  \"/>\n",
       "<polyline clip-path=\"url(#clip02)\" style=\"stroke:#00002d; stroke-width:0.8; stroke-opacity:1; fill:none\" points=\"\n",
       "  30.6037,97.56 38.1856,97.56 \n",
       "  \"/>\n",
       "<g clip-path=\"url(#clip00)\">\n",
       "<text style=\"fill:#00002d; fill-opacity:1; font-family:Arial,Helvetica Neue,Helvetica,sans-serif; font-size:12; text-anchor:middle;\" transform=\"rotate(0, 156.589, 396.952)\" x=\"156.589\" y=\"396.952\">250</text>\n",
       "</g>\n",
       "<g clip-path=\"url(#clip00)\">\n",
       "<text style=\"fill:#00002d; fill-opacity:1; font-family:Arial,Helvetica Neue,Helvetica,sans-serif; font-size:12; text-anchor:middle;\" transform=\"rotate(0, 283.08, 396.952)\" x=\"283.08\" y=\"396.952\">500</text>\n",
       "</g>\n",
       "<g clip-path=\"url(#clip00)\">\n",
       "<text style=\"fill:#00002d; fill-opacity:1; font-family:Arial,Helvetica Neue,Helvetica,sans-serif; font-size:12; text-anchor:middle;\" transform=\"rotate(0, 409.572, 396.952)\" x=\"409.572\" y=\"396.952\">750</text>\n",
       "</g>\n",
       "<g clip-path=\"url(#clip00)\">\n",
       "<text style=\"fill:#00002d; fill-opacity:1; font-family:Arial,Helvetica Neue,Helvetica,sans-serif; font-size:12; text-anchor:middle;\" transform=\"rotate(0, 536.063, 396.952)\" x=\"536.063\" y=\"396.952\">1000</text>\n",
       "</g>\n",
       "<g clip-path=\"url(#clip00)\">\n",
       "<text style=\"fill:#00002d; fill-opacity:1; font-family:Arial,Helvetica Neue,Helvetica,sans-serif; font-size:12; text-anchor:end;\" transform=\"rotate(0, 29.4037, 293.91)\" x=\"29.4037\" y=\"293.91\">250</text>\n",
       "</g>\n",
       "<g clip-path=\"url(#clip00)\">\n",
       "<text style=\"fill:#00002d; fill-opacity:1; font-family:Arial,Helvetica Neue,Helvetica,sans-serif; font-size:12; text-anchor:end;\" transform=\"rotate(0, 29.4037, 197.985)\" x=\"29.4037\" y=\"197.985\">500</text>\n",
       "</g>\n",
       "<g clip-path=\"url(#clip00)\">\n",
       "<text style=\"fill:#00002d; fill-opacity:1; font-family:Arial,Helvetica Neue,Helvetica,sans-serif; font-size:12; text-anchor:end;\" transform=\"rotate(0, 29.4037, 102.06)\" x=\"29.4037\" y=\"102.06\">750</text>\n",
       "</g>\n",
       "<g clip-path=\"url(#clip02)\">\n",
       "<image width=\"505\" height=\"381\" xlink:href=\"data:;base64,\n",
       "iVBORw0KGgoAAAANSUhEUgAAAfkAAAF9CAYAAAAHlxEqAAATyElEQVR4nO3dWXIbRxYFUNDhL3M5\n",
       "/qBWwGV4oVyBuSB+qz9kqCGoCqghp/fynAhFuNUUWawhb92sAS9///XP9wuwy+fX+9OveXv9aPaz\n",
       "aiv1u8zqug2tR1r7s/cCAGQn3Onlj94LAADUIeQBICkhDwBJCXkASErIA0BSQh4AkhLyDO/z632I\n",
       "Z8UBovGcfDDCDuaz9bj3PD73hDwcYDAFIjBdDwBJCXkASMp0PcDg1i4PuUeHZ4Q8QBBLof72+vHz\n",
       "733aHfeEPMCA1gJ9yfXvhT33hDzAANam3vcEtbDnnpCHA7ZcCzWwsqZEoD8i7LkS8gAN7Jl+L+X2\n",
       "ev11GQT9XIQ8QGE9An2NVj83IQ9wwkiB/oiwn5OQB9ih9vX02pam8K9/Tz5CHmBF9EBfc9/qb/87\n",
       "+u/Gr4Q8wH+iTL2XIuzzE/JASLfBdDSQZgv1NWthP+O6yEbIw+AMtP+3Nn2+JZAE+nNuzstHyAMh\n",
       "PHsB0VLQC/ZjPF+fh5AHQrgPniX3/79gOk6rz8HnyQNhbA2Yt9cPYVTI/br08baxCHkgHUFUnpOm\n",
       "mIQ8EIqwge2EPBDOlqDX5sGNd0BQS0F/H+zuCmd2mjyQloBndkIeSOMa6u6uhx+EPJCKcK9n6fW3\n",
       "jE3IA0BSQh4AkhLyAJCUkAeApDwnD4Mb5SYnN7RBPJo8ACQl5AHYzGN0sQh5AEhKyANAUm68C6b3\n",
       "zU+m6ADi0OQBICkhDwBJCXkADnH5bnyuycPgnt2HYaCltbfXD/tdEJo8ACQl5AEgKSEPAEkJeQBI\n",
       "SsgDQFLurgdSeXTXd+83Rmb0+fUeZr3e7htRlvksIQ+EdOQRrqV/M8tgX1qUx+jWljHSyckZQh4I\n",
       "o0aoXL/nDAP+TCKcgLQg5AOx0zKTs/v7bWhv+V73XyP049m7z8zQ5oU8MIwzwf5osN4b+Pdflz0I\n",
       "yEvIA10dCfYzoXv/b7X8PI7cJ5C9zQt5CC7qALV1MK79+wn980YKSkH/KyEPNDVKuG/5uab2iU7I\n",
       "A9WNHuxrSrT8te+VwaiP0Wnz/yfkgWqihvuaIy1/7euj/M7EJuSBorIF+5ojLX/L10daLy8Nf1aL\n",
       "GYOMbV7IA0XMEu5r1n6vjOFfMtxHnO7PRMjDTkduxroaaaAuZfZwf+Zs41/7dyOsz39P3KNQ09nL\n",
       "KiOs21KEPDS0d8AZdbAR7MdFbvzXBr8U7rXD/OjvNerNga28/P3XP997LwTbzLyjXi5jBMbo26Dm\n",
       "OhLsfZTa555tl96Nu7YsJ9h7afKQyJaBbO/gJdz7qjXd30rU/SLLtL2Qh41Gb/Fblf49MgyEkZSa\n",
       "7q+xDCObddpeyMMGMw4OW81yg+HoSjX+pe81oyzrQMgDJJQlpEp61Oazri8hD0/svSat9a87um6y\n",
       "DsC0dxv0M+xXQh4KuB0stgwcTgT2ma19UddM+02okJ/9QJ/l9xxJrTA+si2dGPwuyx3QUEuYkH80\n",
       "wDnQ6anVvmeGYJnjH9aFCflnZrrGQhsRA3PWGQJBD8tChPyeQej2ax30HDXTC2CO/g6jnRwIevjd\n",
       "8CF/ZiAR+FDPiMeUoIdfDf3u+uzvUs4u6oA7U4sfUYnj3raBH4Zv8q1FDaZRuVeCvUq8ttVxDD+E\n",
       "bvI1ryUaIM55tI5HXrda/Nhm/SQxOOqP3gtw1JmD9+314+efNaPdVJTJ59f7zz8RCY5+an2CHmQV\n",
       "MuQNsmPbO606ykA8ynLwmKCH7UKGfEna/BhGCvtHnGCOQdDDNuFCvvUga3DY5+z66hX2tnM8gh6e\n",
       "GzrktaZ5jXjd3v44HkEPjw35CJ0DMaZa2632S408bRHb3o/49XgdMxmqyY/W3C4Xg/toSu8jo+1v\n",
       "tGG7M4shQn7rwF0rcAX5ea0HzZYnhPaPGEzdw++6hfzea649BlqD+/hKfbbBGvtALM/ef3FP0JNd\n",
       "l5D31qpcDJREZv8ls6Y33u05mHoHe++fzzZebcySt9cP77qHS4OQj9La996hyw/WF6MS9FDxA2qi\n",
       "hDvn9Ax5LZ4tjEXMrPvd9XtvlGEcWjwRuOuemVUL+S0HlnDnKC2ePWxTZlW1yWvpeWk7RLP30Tr7\n",
       "OBk0ma4X9JSkxXOU7ctsul6TH+lM+fblPCMt14girp+Iy0wdXpbDTJqF/Mhn0EsHssBf1nt91NyP\n",
       "Rt5HKcvUPbPofnf9CAzuuRmgWeK4ZwbdQz7CABxhGVvovR60eEozdU923UP+cnHwUI99i2cEPZk1\n",
       "DflHB1PP614O3Od6ryMtnpoEPVk1/YCaLZYOIIPw3DwyRwt73nXvPfdE0Xy6/sgLcmq2fEHwnObC\n",
       "LDR6sqn2ATVnbD14zoZvq58TnQ+hYTaRPhYbHhnixrt7W9v+0YbvudftrCdmpNGTxZBNfkmJM+sj\n",
       "B+PsZ+laPDPT6IkuTMhflQwdB+VjvRvKke3jEgylCXoiG3K6/pESn2zn0/HG55E5RmHqnsiGe4Ru\n",
       "q/sDzxRtWREHq4jLTAweryOqcE1+zbWdrx1cDro4tHhGpNETUdgm/4iB/JyIA1TEZSYejZ5o0jR5\n",
       "ctDiGZ1GTyRCnl9EHJQiLjOxCXqiEPIMQ4snEkFPBEKenyIORJ6qoCdBz+iEPEMQxEQl6BmZkOdy\n",
       "ucQcfLR4RiHoGZWQpztBzGwEPa0IeUIOOFo8o9n7uuyIxx3xCPnJ9R5oan4IDfQg6BmJkCclLZ4o\n",
       "BD01CfmJ9R5ctHiy2rtv26+pRciTjhbPCAQ9IxDyk+o9oGjxzEDQ05uQpzmvr2Umgp6ehPyEIg4i\n",
       "EZcZrgQ9vQh5mtLieeTz6z1twAl6eviz9wLQVsSBI+Iys83atr3+fbYTt7fXj1378+fXe7p1QFua\n",
       "PM1o8VxtbewZm71GT0tCfiIRBwuvr80n4n5YmqCnFSFPE4IYfiXoaUHITyLiAKHF55Jx6v0sQU9t\n",
       "bryjOi++mZft+Nz1+Ni6rtyMxx6a/ASyDrQGurFl3e9q8el11CDkqUqLn8t1Sr71Nsyyzwh6SjNd\n",
       "n1zPgcAjc/mNFDQzTmPP+Duzj5BnKCOFBj9E2ib3yxoxAF2jpyQhn5gWzxGRQv2Z298l2n6z5+14\n",
       "JbdZtPXEY0KeYWQKl6hsA47sA04MxiXkk9Li2WukgK+xnZd+v9H3p71T973UWr7Rt08EQp4hjD6I\n",
       "0Y6BnSuzCucJ+YS0eLYa7eTKNl6299PrZmZW4Vcvf//1z/feC0E5EQPe62vbGzkwWr9bIdq+NfK2\n",
       "Y7tW+50mDxMREPFp9Tkc3YZ7Tw40+US0eB6JEgxbt7fHxsqJsm+wnyYPE8g0iNf4XWZ/oYzXT+cl\n",
       "5JPQ4lljMKaG0sem/bQOIU8XDug2rOftZm/zvTlpqEPIJxCxxff+3jMwyO0n6POoOcMYiZCnuWwH\n",
       "EbkI+rllm1EQ8sFp8cyk94AJe/WeURDyNGWQ5pFnA6JnxJlFqaIj5APT4lkTIQi/vX5cRn1Jhyl7\n",
       "svij9wIwD4/MtTP6evw2+PJBFpp8UFlbPOWMOrV9NuCv+9/L3d//W/h31ebJQJOnCS2+j9HW6X3A\n",
       "3wf1VrUD/mrEkyTYQ8gHpMWzxyjbrMQU/culXcBDBkI+oLfXj2EG7i20+P56r99vrx+rYbzW5u8D\n",
       "/WjrP+vz612jJywhH9g17FsN4L2DgniW2vtS2N8G+lK4Pwp4N/HBOh81m1Ct1rE35Lcuh5OHNkZq\n",
       "oyWC+fZk4fr9ak/d21eJxt31Cd0PRCUGd4MbJV3DeE/Y3wf4/b91bR5+Z7p+Aj2u4WvxYxmpxd+6\n",
       "DeZ/v95Xg1qAwzGa/ESONnxBHNuoAX91H+BnAv3RDX4wI01+YrUavpOHcYwe8KUJePiVJs/Dhl8r\n",
       "iAV8PTMFu1CHx9xdT1FafHszhfoI7LtEosnTnEHyHKEObCXkKUb41GX9Anu58Y6mtPhjBDxwhJCn\n",
       "CCFUh/emj8f2IBIhTzNa/D7CZFy2DVEIeU4z4JVnnY7PNiICIc8pHpkrT3gApQh5GIiAB0oS8hym\n",
       "xQOMTcjDILT4eGwzRifkOUSLL0tYADV44x3VCHhm0OIDneAoIc9uW1qnwY4ZCXxGY7oeoAKXYBiB\n",
       "kGcXLR4gDiEPUIk2T29Cns20eIBYhDybaCRwjGOHnoQ8xWjxsEzQ04tH6HjKAAXnLR1HToypTZOn\n",
       "CIMV7OcEmtqEPA8ZhOqzjuf2+fVuH6AaIc9pWvxxBneu7AvUIORZZdCBthxzlCbkOUWLP86ADtQm\n",
       "5FkkgADiE/IcpsUf5yQKaEHI8xuvr63P+gNaEPLAIici7VnnlPby91//fO+9EIxDi2+r1rT9KNuo\n",
       "5O+39jtFv/QxyrYiJyHPT1sHS4NSeSWCynYZP/BtI1rz7np2MUjVcbtenWwdd79Oeoa+7cMIhDyX\n",
       "y2X8BjQT4VCOdcns3HjHZgZMgFiEPFo8QFJCnk20eIB4hPzktHiAvIQ8T2nxADEJ+Ylp8QC5CXke\n",
       "0uIB4hLyk/L6WoD8hDwAJCXkJ6TFA8xByANAUt5dP5mtd9Tffp1WDxCTkJ/I3k83u369wAeIyXQ9\n",
       "v7gN8bfXj8WP7vR8PUAMmvwkzgTz0meda/cA49Pk+WlLWGv3AHFo8hOoEcDaPcD4hDyXy+VcKAt8\n",
       "gDG9/P3XP997LwT19HrxzdLPFfYAbWnyVKHdA/SnySc24utrNXyAdtxdT1PuzgdoR5NPasQWv0a7\n",
       "B6hDk6c77R6gDk0+oUgtfo12D3Ceu+uTydJ+e9+dP9p6dIIDHGG6fkLRAsN0PsAxmnwi2UPvUbuP\n",
       "duIC0IImP5ksYXjf7jV7gN9p8klkuNnuiEdBn/H3BdhDyJOGwAf4len6BGZt8Y+YzgfQ5ElOuwdm\n",
       "pskHp8Vvp90Ds9HkmY52D8xCyAemxZ+n2QOZma6H/yy9WQ8gMh9QE5QWX9fIjd52BbbS5CEYlxWA\n",
       "rVyTD0iLn0/vT+UDYhLywWhwCHxgK9P1CRnk5+FjeIFHNPlATNOzRrsHlgh5SKZFs3fSADGYrg9C\n",
       "i+eoGs//uyQAMWjyMImSQX9/ScAJJoxJkw9Ai2c0PuwHYhDywGHCHsbmtbaD0+KJ5H5/tW9CX5o8\n",
       "UIxmD2MR8gPT4olqKeyB9oQ8UI2TUOjLI3QD2tp6DKAAPKLJByXgAXhGyA/GtUsAShHyAWnxRGJ/\n",
       "hX6E/EC0eABKEvLBaEVE5SQW2hPygzAAAlCakA9EiwdgDyE/AC0egBqEfBBHWvz1veFOIujNLBT0\n",
       "4Y13ndUK4Pvvu/RzDLwAuQn5jnq/vtbHgtLa59e7/QwaMl3PT6b1AXIR8p3UbPHCmhFd92X7J7Qj\n",
       "5AdmWpNsboNe2EN9Qr6DmoObgZPR3Z682l+hLiE/KC2ezAQ9tCHkGzOgwQ+CHuoT8gM62uINlEQj\n",
       "6KEuId/QlkHMND2zEfRQj5BPwuBIZIIe6hDyjWjx8Jigh/KEPDAMQQ9lCfkGard4gyGZCHooR8hX\n",
       "ZpCC/d5eP7wGFwoQ8gPQ4gGoQchXJIAB6EnId+aOegBqEfKVtGjxZgoAeETId6TFA1CTkK+gxYtv\n",
       "tHgAnvmz9wIArDHbBedo8oV5fS0AoxDyAZmqB2ALIV+QFg/ASIR8MFo8AFsJ+UK0eABGI+QL0K6h\n",
       "js+vd8cXnOARugJaNXSDHQB7aPIAkJSQD0KLB2AvIQ8ASQl5AEhKyAfQaqreI34Aubi7/iDPxQMw\n",
       "Ok3+AAEPQARCfnDuqgfgKCG/kxYPQBSuyXd0e8KwdGKgxQNwhpDfoWaLF+gAlGa6vhOhDkBtQn4j\n",
       "1+IBiEbIb1C6dWvxALQg5AvR4gEYjZB/wjQ9AFG5u76D25MCU/cA1CLkH2jR4gU+ALUI+YH0fiFO\n",
       "r5MMlzsA6nBNfsUo1+IFIABHCXkASErILxilxQPAGUIeAJIS8ne0eACyEPIAkJSQv6HFA5CJ5+T/\n",
       "I+CBWnq8g8J4xeWiyQNAWkL+osUDkJOQB4Ckpr8mr8UDGfX8wCtj5jg0eQBIauqQ1+IByGz66foI\n",
       "nGgAcMS0TV6LByC7aUMeALKbMuS1eABmMGXIA8AMpgt5LR6AWUx1d33Pl0O04oMwALiarsk/I7AA\n",
       "yGKakDdND8Bspgl5AJjNFCGvxQMwoylCHgBmlP7uei0e4pvhyRioIX3IA3FlOQGf7SRFuRqH6XoA\n",
       "SErIA0BSQh4AkhLyAJCUkAeApIQ8ACQl5AEgKSEPAEkJeQBISsgDQFJea5uMV0UCcKXJA0BSQh4A\n",
       "khLyAJCUkAeApIQ8ACQl5AEgKY/QAbDq24HHcv/9eq+wJBwh5AFY9O314/L9v/9+efK132/+++31\n",
       "4/JyEfYjEPIJfA52IHkhD8R2G+5X3y8/gv7+79d8/+/7CPq+XJMHSOjb68ehqfa3hYC/2hrwt1+/\n",
       "dtI/WjnJSsgDJHYN+2eB/+31o9os3NrPFvT1CXmAhL5ffm/ea2H/qL3fe7n8COfbP1uWRdD34Zp8\n",
       "Am+vHw4UGNjI96nsWba1m+k+v96ffp9H1+i3/HuOEfIAk1m6se6RLXfKlwj6y2XsE6KITNcDJLZ0\n",
       "l/yeqfnro3Nbru1/fr0/fdTuGbOSZQl5gAnsCfdnHgX+o8Z/e8LwiKAvR8gDJFcq3JcsBfZSo7//\n",
       "31uCXtifJ+QBKO7a6G+n/I8Q9OcIeQCqeBTQe2YXBP1x7q4H4JQjb9Z7uex77a3H7I7R5AFYVOJa\n",
       "fsl312v0+wl5AFZ9v/uz17Nn8vfOArghbx8hD0BVZ5+dXyLotxHyAIQk6J8T8gBsVvqZ+7PX7E3f\n",
       "P+buegCaK3lD3uXi7vs1mjwATZUO+CuN/nf/A9ksdLXs9XchAAAAAElFTkSuQmCC\n",
       "\" transform=\"translate(30, 3)\"/>\n",
       "</g>\n",
       "<defs>\n",
       "  <clipPath id=\"clip03\">\n",
       "    <rect x=\"548\" y=\"3\" width=\"19\" height=\"382\"/>\n",
       "  </clipPath>\n",
       "</defs>\n",
       "</svg>\n"
      ]
     },
     "execution_count": 23,
     "metadata": {},
     "output_type": "execute_result"
    }
   ],
   "source": [
    "heatmap(-x)"
   ]
  },
  {
   "cell_type": "markdown",
   "metadata": {
    "slideshow": {
     "slide_type": "slide"
    }
   },
   "source": [
    "## Computationally Speaking\n",
    "\n",
    "Input is either an edge pair list or a large grid\n",
    "- each cell has some resistance value\n"
   ]
  },
  {
   "cell_type": "markdown",
   "metadata": {
    "slideshow": {
     "slide_type": "fragment"
    }
   },
   "source": [
    "- construct a graph where the resistance between each node is the average (say) of its resistance values"
   ]
  },
  {
   "cell_type": "markdown",
   "metadata": {
    "slideshow": {
     "slide_type": "fragment"
    }
   },
   "source": [
    "- specify a source and a sink. \n",
    "- pairwise: each pair has a unit source and sinks\n",
    "- advanced: arbitrary numbers of sources and sinks with variable strengths"
   ]
  },
  {
   "cell_type": "markdown",
   "metadata": {
    "slideshow": {
     "slide_type": "fragment"
    }
   },
   "source": [
    "- solve the system to find the least resistance path"
   ]
  },
  {
   "cell_type": "markdown",
   "metadata": {
    "slideshow": {
     "slide_type": "subslide"
    }
   },
   "source": [
    "### Typical Spy Plot\n",
    "\n",
    "Laplacian matrix - symmetric positive semi-definite, but can be made positive definite\n",
    "<img src=\"graph.png\" alt=\"Drawing\" style=\"width: 500px; height: 500px\"/>"
   ]
  },
  {
   "cell_type": "markdown",
   "metadata": {
    "collapsed": true,
    "slideshow": {
     "slide_type": "slide"
    }
   },
   "source": [
    "## Towards solving billions of nodes\n",
    "\n",
    "Two ways:\n",
    "\n",
    "1. Improve the solver\n",
    "2. Improve parallelism\n",
    "\n"
   ]
  },
  {
   "cell_type": "markdown",
   "metadata": {
    "slideshow": {
     "slide_type": "subslide"
    }
   },
   "source": [
    "### Improving the solver\n",
    "\n",
    "- Currently using conjugate gradients with Algebraic Multigrid preconditioner\n"
   ]
  },
  {
   "cell_type": "markdown",
   "metadata": {
    "slideshow": {
     "slide_type": "fragment"
    }
   },
   "source": [
    "- Can be replaced by cholesky decomposition for smaller sizes with large numbers of connected components\n",
    "- But for larger sizes, the cost of constructing the preconditioner is spread across the number of pairs per connected component"
   ]
  },
  {
   "cell_type": "markdown",
   "metadata": {
    "slideshow": {
     "slide_type": "subslide"
    }
   },
   "source": [
    "<img src=\"solve.png\" alt=\"Drawing\" style=\"width: 600px; height: 400px\"/>\n",
    "\n",
    "**System**: Intel Xeon CPU E5-2699 V4 @ 2.20GHz\n",
    "\n",
    "**RAM**: 128 GB"
   ]
  },
  {
   "cell_type": "markdown",
   "metadata": {
    "slideshow": {
     "slide_type": "fragment"
    }
   },
   "source": [
    "For sizes of 12m, you need minimum 2 solves per connected component to balance the cost of computing the preconditioner"
   ]
  },
  {
   "cell_type": "markdown",
   "metadata": {
    "slideshow": {
     "slide_type": "subslide"
    }
   },
   "source": [
    "### Improving the parallelism\n",
    "\n",
    "Two levels of parallelism: \n",
    "- **pair level**: solve different pairs in parallel\n",
    "- **point level**: solve each point in parallel "
   ]
  },
  {
   "cell_type": "markdown",
   "metadata": {
    "slideshow": {
     "slide_type": "subslide"
    }
   },
   "source": [
    "#### Pair level parallelism\n",
    " - Larger numbers of broadcast but\n",
    " - More parallelism\n",
    " - Great for when you have a large number of pairs to solve\n",
    " "
   ]
  },
  {
   "cell_type": "markdown",
   "metadata": {
    "slideshow": {
     "slide_type": "fragment"
    }
   },
   "source": [
    "#### Point level parallelism\n",
    "* Less broadcast operations but: \n",
    "* Less parallelism\n",
    "* Can batch together all pairs into a single solve"
   ]
  },
  {
   "cell_type": "markdown",
   "metadata": {
    "slideshow": {
     "slide_type": "slide"
    }
   },
   "source": [
    "#### Which one do you choose?"
   ]
  },
  {
   "cell_type": "markdown",
   "metadata": {
    "slideshow": {
     "slide_type": "subslide"
    }
   },
   "source": [
    "_**Depends**_. "
   ]
  },
  {
   "cell_type": "markdown",
   "metadata": {
    "slideshow": {
     "slide_type": "subslide"
    }
   },
   "source": [
    "<img src=\"desk.png\" alt=\"Drawing\" style=\"width: 600px; height: 400px\"/>\n",
    "\n",
    "The pair level parallelism is faster because it solves more in parallelism, and the cost of broadcasting the matrix to the workers is lesser. If there are enough number of solvers and the graph is large enough, this would be good to use."
   ]
  },
  {
   "cell_type": "markdown",
   "metadata": {
    "slideshow": {
     "slide_type": "subslide"
    }
   },
   "source": [
    "<img src=\"server.png\" alt=\"Drawing\" style=\"width: 600px; height: 400px\"/>\n",
    "\n",
    "The point level parallelism is faster because the cost of broadcasting the graph is high."
   ]
  },
  {
   "cell_type": "markdown",
   "metadata": {
    "slideshow": {
     "slide_type": "slide"
    }
   },
   "source": [
    "### Future Work\n",
    "\n",
    "1. Solver work\n",
    "2. Allow for two parallel modes (perhaps?)"
   ]
  }
 ],
 "metadata": {
  "celltoolbar": "Slideshow",
  "kernelspec": {
   "display_name": "Julia 0.5.1",
   "language": "julia",
   "name": "julia-0.5"
  },
  "language_info": {
   "file_extension": ".jl",
   "mimetype": "application/julia",
   "name": "julia",
   "version": "0.5.2"
  }
 },
 "nbformat": 4,
 "nbformat_minor": 2
}
